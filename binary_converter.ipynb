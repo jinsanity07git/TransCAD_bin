{
 "cells": [
  {
   "cell_type": "code",
   "execution_count": 1,
   "metadata": {},
   "outputs": [],
   "source": [
    "import bin2df"
   ]
  },
  {
   "cell_type": "code",
   "execution_count": 4,
   "metadata": {
    "tags": [
     "parameters"
    ]
   },
   "outputs": [],
   "source": [
    "filepath = r'D:\\dev\\misc_tools_dev\\TransCAD_bin_to_df_converter\\input\\Amarillo Streets.bin'\n",
    "out_directory = r'D:\\dev\\misc_tools_dev\\TransCAD_bin_to_df_converter\\output'"
   ]
  },
  {
   "cell_type": "code",
   "execution_count": 5,
   "metadata": {},
   "outputs": [
    {
     "name": "stdout",
     "output_type": "stream",
     "text": [
      "D:\\dev\\misc_tools_dev\\TransCAD_bin_to_df_converter\\input\\Amarillo Streets.bin\n",
      "D:\\dev\\misc_tools_dev\\TransCAD_bin_to_df_converter\\output/Amarillo Streets.csv\n"
     ]
    }
   ],
   "source": [
    "def convert_binary_to_csv(filepath, out_directory):\n",
    "    bin2df.convert(furl=filepath, fout=out_directory)"
   ]
  }
 ],
 "metadata": {
  "kernelspec": {
   "display_name": "tdm23_env_1",
   "language": "python",
   "name": "python3"
  },
  "language_info": {
   "codemirror_mode": {
    "name": "ipython",
    "version": 3
   },
   "file_extension": ".py",
   "mimetype": "text/x-python",
   "name": "python",
   "nbconvert_exporter": "python",
   "pygments_lexer": "ipython3",
   "version": "3.8.12"
  }
 },
 "nbformat": 4,
 "nbformat_minor": 2
}
